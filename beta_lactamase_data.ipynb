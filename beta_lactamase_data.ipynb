{
 "cells": [
  {
   "cell_type": "markdown",
   "metadata": {
    "id": "uOXYIR2P5bUi"
   },
   "source": [
    "# **Beta-Lactamase Data**\n",
    "\n",
    "Chanin Nantasenamat\n",
    "\n",
    "[Data Professor YouTube channel](https://youtube.com/dataprofessor)"
   ]
  },
  {
   "cell_type": "code",
   "execution_count": null,
   "metadata": {
    "colab": {
     "base_uri": "https://localhost:8080/"
    },
    "id": "qsH_hHB45UCK",
    "outputId": "5be383fe-fb41-4038-ac70-dd2e56248de1"
   },
   "outputs": [],
   "source": [
    "! wget https://github.com/dataprofessor/beta-lactamase/raw/main/beta_lactamase_CHEMBL29.zip"
   ]
  },
  {
   "cell_type": "code",
   "execution_count": null,
   "metadata": {
    "colab": {
     "base_uri": "https://localhost:8080/"
    },
    "id": "lrOAAhvzpPZm",
    "outputId": "e5d7c6e4-098f-41a2-fc1e-6ddb31318e6b"
   },
   "outputs": [],
   "source": [
    "! unzip beta_lactamase_CHEMBL29.zip"
   ]
  },
  {
   "cell_type": "code",
   "execution_count": null,
   "metadata": {
    "colab": {
     "base_uri": "https://localhost:8080/"
    },
    "id": "45R9rCTsj8w2",
    "outputId": "d25609f0-98bd-4dae-dbeb-beb2e3105fde"
   },
   "outputs": [],
   "source": [
    "! ls *.csv | wc -l"
   ]
  },
  {
   "cell_type": "code",
   "execution_count": 1,
   "metadata": {
    "id": "rcSbHGZf96Er"
   },
   "outputs": [],
   "source": [
    "import zipfile\n",
    "import pandas as pd\n",
    "\n",
    "zf = zipfile.ZipFile(\"beta_lactamase_CHEMBL29.zip\", \"r\")\n",
    "df = pd.concat( (pd.read_csv( zf.open(f) ) for f in zf.namelist() ) )"
   ]
  },
  {
   "cell_type": "code",
   "execution_count": 2,
   "metadata": {
    "colab": {
     "base_uri": "https://localhost:8080/",
     "height": 694
    },
    "id": "IOKQXs0H7MkY",
    "outputId": "3de694bf-ef50-4bf3-aaab-a7ab67e25b43"
   },
   "outputs": [
    {
     "data": {
      "text/html": [
       "<div>\n",
       "<style scoped>\n",
       "    .dataframe tbody tr th:only-of-type {\n",
       "        vertical-align: middle;\n",
       "    }\n",
       "\n",
       "    .dataframe tbody tr th {\n",
       "        vertical-align: top;\n",
       "    }\n",
       "\n",
       "    .dataframe thead th {\n",
       "        text-align: right;\n",
       "    }\n",
       "</style>\n",
       "<table border=\"1\" class=\"dataframe\">\n",
       "  <thead>\n",
       "    <tr style=\"text-align: right;\">\n",
       "      <th></th>\n",
       "      <th>molecule_chembl_id</th>\n",
       "      <th>canonical_smiles</th>\n",
       "      <th>standard_relation</th>\n",
       "      <th>standard_value</th>\n",
       "      <th>standard_units</th>\n",
       "      <th>standard_type</th>\n",
       "      <th>pchembl_value</th>\n",
       "      <th>target_pref_name</th>\n",
       "      <th>bao_label</th>\n",
       "    </tr>\n",
       "  </thead>\n",
       "  <tbody>\n",
       "    <tr>\n",
       "      <th>0</th>\n",
       "      <td>CHEMBL1730</td>\n",
       "      <td>CO/N=C(\\C(=O)N[C@@H]1C(=O)N2C(C(=O)O)=C(COC(C)...</td>\n",
       "      <td>=</td>\n",
       "      <td>10.0</td>\n",
       "      <td>/mM/s</td>\n",
       "      <td>Kcat/Km</td>\n",
       "      <td>NaN</td>\n",
       "      <td>Gil1</td>\n",
       "      <td>assay format</td>\n",
       "    </tr>\n",
       "    <tr>\n",
       "      <th>1</th>\n",
       "      <td>CHEMBL996</td>\n",
       "      <td>CO[C@@]1(NC(=O)Cc2cccs2)C(=O)N2C(C(=O)O)=C(COC...</td>\n",
       "      <td>NaN</td>\n",
       "      <td>NaN</td>\n",
       "      <td>NaN</td>\n",
       "      <td>Kcat/Km</td>\n",
       "      <td>NaN</td>\n",
       "      <td>Gil1</td>\n",
       "      <td>assay format</td>\n",
       "    </tr>\n",
       "    <tr>\n",
       "      <th>2</th>\n",
       "      <td>CHEMBL617</td>\n",
       "      <td>CC(=O)OCC1=C(C(=O)O)N2C(=O)[C@@H](NC(=O)Cc3ccc...</td>\n",
       "      <td>=</td>\n",
       "      <td>598.0</td>\n",
       "      <td>/mM/s</td>\n",
       "      <td>Kcat/Km</td>\n",
       "      <td>NaN</td>\n",
       "      <td>Gil1</td>\n",
       "      <td>assay format</td>\n",
       "    </tr>\n",
       "    <tr>\n",
       "      <th>3</th>\n",
       "      <td>CHEMBL702</td>\n",
       "      <td>CCN1CCN(C(=O)N[C@@H](C(=O)N[C@@H]2C(=O)N3[C@@H...</td>\n",
       "      <td>=</td>\n",
       "      <td>3400.0</td>\n",
       "      <td>/mM/s</td>\n",
       "      <td>Kcat/Km</td>\n",
       "      <td>NaN</td>\n",
       "      <td>Gil1</td>\n",
       "      <td>assay format</td>\n",
       "    </tr>\n",
       "    <tr>\n",
       "      <th>4</th>\n",
       "      <td>CHEMBL1449</td>\n",
       "      <td>CC1(C)S[C@@H]2[C@H](NC(=O)[C@H](C(=O)O)c3ccsc3...</td>\n",
       "      <td>=</td>\n",
       "      <td>10000.0</td>\n",
       "      <td>/mM/s</td>\n",
       "      <td>Kcat/Km</td>\n",
       "      <td>NaN</td>\n",
       "      <td>Gil1</td>\n",
       "      <td>assay format</td>\n",
       "    </tr>\n",
       "    <tr>\n",
       "      <th>...</th>\n",
       "      <td>...</td>\n",
       "      <td>...</td>\n",
       "      <td>...</td>\n",
       "      <td>...</td>\n",
       "      <td>...</td>\n",
       "      <td>...</td>\n",
       "      <td>...</td>\n",
       "      <td>...</td>\n",
       "      <td>...</td>\n",
       "    </tr>\n",
       "    <tr>\n",
       "      <th>13</th>\n",
       "      <td>CHEMBL561555</td>\n",
       "      <td>COC(=O)CC(N)(CC(=O)OC)C(=O)OCc1ccccc1</td>\n",
       "      <td>NaN</td>\n",
       "      <td>NaN</td>\n",
       "      <td>NaN</td>\n",
       "      <td>Inhibition</td>\n",
       "      <td>NaN</td>\n",
       "      <td>Beta-lactamase VIM-4</td>\n",
       "      <td>single protein format</td>\n",
       "    </tr>\n",
       "    <tr>\n",
       "      <th>14</th>\n",
       "      <td>CHEMBL561821</td>\n",
       "      <td>NC(CC(=O)OCc1ccccc1)(CC(=O)OCc1ccccc1)C(=O)OCc...</td>\n",
       "      <td>NaN</td>\n",
       "      <td>NaN</td>\n",
       "      <td>NaN</td>\n",
       "      <td>Inhibition</td>\n",
       "      <td>NaN</td>\n",
       "      <td>Beta-lactamase VIM-4</td>\n",
       "      <td>single protein format</td>\n",
       "    </tr>\n",
       "    <tr>\n",
       "      <th>15</th>\n",
       "      <td>CHEMBL561896</td>\n",
       "      <td>COC(=O)CC(CC(=O)OC)(NC(=O)Cc1ccccc1)C(=O)OC</td>\n",
       "      <td>NaN</td>\n",
       "      <td>NaN</td>\n",
       "      <td>NaN</td>\n",
       "      <td>Inhibition</td>\n",
       "      <td>NaN</td>\n",
       "      <td>Beta-lactamase VIM-4</td>\n",
       "      <td>single protein format</td>\n",
       "    </tr>\n",
       "    <tr>\n",
       "      <th>16</th>\n",
       "      <td>CHEMBL563044</td>\n",
       "      <td>COC(=O)C(CC(=O)OCc1ccccc1)(CC(=O)OCc1ccccc1)NC...</td>\n",
       "      <td>NaN</td>\n",
       "      <td>NaN</td>\n",
       "      <td>NaN</td>\n",
       "      <td>Inhibition</td>\n",
       "      <td>NaN</td>\n",
       "      <td>Beta-lactamase VIM-4</td>\n",
       "      <td>single protein format</td>\n",
       "    </tr>\n",
       "    <tr>\n",
       "      <th>17</th>\n",
       "      <td>CHEMBL553476</td>\n",
       "      <td>O=C(COc1ccccc1)NC(CC(=O)OCc1ccccc1)(CC(=O)OCc1...</td>\n",
       "      <td>NaN</td>\n",
       "      <td>NaN</td>\n",
       "      <td>NaN</td>\n",
       "      <td>Inhibition</td>\n",
       "      <td>NaN</td>\n",
       "      <td>Beta-lactamase VIM-4</td>\n",
       "      <td>single protein format</td>\n",
       "    </tr>\n",
       "  </tbody>\n",
       "</table>\n",
       "<p>71973 rows × 9 columns</p>\n",
       "</div>"
      ],
      "text/plain": [
       "   molecule_chembl_id                                   canonical_smiles  \\\n",
       "0          CHEMBL1730  CO/N=C(\\C(=O)N[C@@H]1C(=O)N2C(C(=O)O)=C(COC(C)...   \n",
       "1           CHEMBL996  CO[C@@]1(NC(=O)Cc2cccs2)C(=O)N2C(C(=O)O)=C(COC...   \n",
       "2           CHEMBL617  CC(=O)OCC1=C(C(=O)O)N2C(=O)[C@@H](NC(=O)Cc3ccc...   \n",
       "3           CHEMBL702  CCN1CCN(C(=O)N[C@@H](C(=O)N[C@@H]2C(=O)N3[C@@H...   \n",
       "4          CHEMBL1449  CC1(C)S[C@@H]2[C@H](NC(=O)[C@H](C(=O)O)c3ccsc3...   \n",
       "..                ...                                                ...   \n",
       "13       CHEMBL561555              COC(=O)CC(N)(CC(=O)OC)C(=O)OCc1ccccc1   \n",
       "14       CHEMBL561821  NC(CC(=O)OCc1ccccc1)(CC(=O)OCc1ccccc1)C(=O)OCc...   \n",
       "15       CHEMBL561896        COC(=O)CC(CC(=O)OC)(NC(=O)Cc1ccccc1)C(=O)OC   \n",
       "16       CHEMBL563044  COC(=O)C(CC(=O)OCc1ccccc1)(CC(=O)OCc1ccccc1)NC...   \n",
       "17       CHEMBL553476  O=C(COc1ccccc1)NC(CC(=O)OCc1ccccc1)(CC(=O)OCc1...   \n",
       "\n",
       "   standard_relation  standard_value standard_units standard_type  \\\n",
       "0                  =            10.0          /mM/s       Kcat/Km   \n",
       "1                NaN             NaN            NaN       Kcat/Km   \n",
       "2                  =           598.0          /mM/s       Kcat/Km   \n",
       "3                  =          3400.0          /mM/s       Kcat/Km   \n",
       "4                  =         10000.0          /mM/s       Kcat/Km   \n",
       "..               ...             ...            ...           ...   \n",
       "13               NaN             NaN            NaN    Inhibition   \n",
       "14               NaN             NaN            NaN    Inhibition   \n",
       "15               NaN             NaN            NaN    Inhibition   \n",
       "16               NaN             NaN            NaN    Inhibition   \n",
       "17               NaN             NaN            NaN    Inhibition   \n",
       "\n",
       "    pchembl_value      target_pref_name              bao_label  \n",
       "0             NaN                  Gil1           assay format  \n",
       "1             NaN                  Gil1           assay format  \n",
       "2             NaN                  Gil1           assay format  \n",
       "3             NaN                  Gil1           assay format  \n",
       "4             NaN                  Gil1           assay format  \n",
       "..            ...                   ...                    ...  \n",
       "13            NaN  Beta-lactamase VIM-4  single protein format  \n",
       "14            NaN  Beta-lactamase VIM-4  single protein format  \n",
       "15            NaN  Beta-lactamase VIM-4  single protein format  \n",
       "16            NaN  Beta-lactamase VIM-4  single protein format  \n",
       "17            NaN  Beta-lactamase VIM-4  single protein format  \n",
       "\n",
       "[71973 rows x 9 columns]"
      ]
     },
     "execution_count": 2,
     "metadata": {},
     "output_type": "execute_result"
    }
   ],
   "source": [
    "df"
   ]
  },
  {
   "cell_type": "code",
   "execution_count": 3,
   "metadata": {
    "colab": {
     "base_uri": "https://localhost:8080/",
     "height": 323
    },
    "id": "loeDWobu_crw",
    "outputId": "eb3f5dde-86a6-46ca-c2ce-b2eeaadb583e"
   },
   "outputs": [
    {
     "data": {
      "image/png": "[encoded data removed]",
      "text/plain": [
       "<Figure size 360x324 with 1 Axes>"
      ]
     },
     "metadata": {
      "needs_background": "light"
     },
     "output_type": "display_data"
    }
   ],
   "source": [
    "# Bar plot of Missing vs Non-Missing Data\n",
    "\n",
    "import matplotlib.pyplot as plt\n",
    "\n",
    "# Data\n",
    "missing = df.pchembl_value.isnull().sum()\n",
    "nonmissing = df.pchembl_value.notnull().sum()\n",
    "\n",
    "x = ['Missing', 'Non-Missing']\n",
    "y = [missing, nonmissing]\n",
    "\n",
    "# Setup plot\n",
    "fig, ax = plt.subplots()\n",
    "\n",
    "# Make bar plot\n",
    "p = ax.bar(x, y, color = ['#F8766D', '#00BFC4'], ec = 'black')\n",
    "\n",
    "ax.set_title('pChEMBL Missing Data', fontsize=14, fontweight='bold', pad=15)\n",
    "#ax.set_xticklabels(x, fontweight='bold')\n",
    "\n",
    "ax.set_ylim(0,70000)\n",
    "plt.xticks(fontsize=14)\n",
    "plt.yticks(fontsize=14)\n",
    "\n",
    "# Label above bar\n",
    "for index, data in enumerate(y):\n",
    "    plt.text(x=index-0.1 , y =data+1000 , s=f\"{data}\" , fontdict=dict(fontsize=14))\n",
    "\n",
    "fig.set_size_inches(5,4.5)\n",
    "plt.show()"
   ]
  },
  {
   "cell_type": "code",
   "execution_count": 4,
   "metadata": {
    "colab": {
     "base_uri": "https://localhost:8080/",
     "height": 745
    },
    "id": "y1D_ifqDIRjS",
    "outputId": "3f2f39a8-b1b6-48f0-c870-78fd7366cfa4",
    "scrolled": true
   },
   "outputs": [
    {
     "data": {
      "text/html": [
       "<div>\n",
       "<style scoped>\n",
       "    .dataframe tbody tr th:only-of-type {\n",
       "        vertical-align: middle;\n",
       "    }\n",
       "\n",
       "    .dataframe tbody tr th {\n",
       "        vertical-align: top;\n",
       "    }\n",
       "\n",
       "    .dataframe thead th {\n",
       "        text-align: right;\n",
       "    }\n",
       "</style>\n",
       "<table border=\"1\" class=\"dataframe\">\n",
       "  <thead>\n",
       "    <tr style=\"text-align: right;\">\n",
       "      <th></th>\n",
       "      <th>molecule_chembl_id</th>\n",
       "      <th>canonical_smiles</th>\n",
       "      <th>standard_relation</th>\n",
       "      <th>standard_value</th>\n",
       "      <th>standard_units</th>\n",
       "      <th>standard_type</th>\n",
       "      <th>pchembl_value</th>\n",
       "      <th>target_pref_name</th>\n",
       "      <th>bao_label</th>\n",
       "    </tr>\n",
       "  </thead>\n",
       "  <tbody>\n",
       "    <tr>\n",
       "      <th>47</th>\n",
       "      <td>CHEMBL777</td>\n",
       "      <td>O=C(O)[C@H]1/C(=C/CO)O[C@@H]2CC(=O)N21</td>\n",
       "      <td>=</td>\n",
       "      <td>9.0</td>\n",
       "      <td>nM</td>\n",
       "      <td>IC50</td>\n",
       "      <td>8.05</td>\n",
       "      <td>Gil1</td>\n",
       "      <td>assay format</td>\n",
       "    </tr>\n",
       "    <tr>\n",
       "      <th>48</th>\n",
       "      <td>CHEMBL404</td>\n",
       "      <td>C[C@]1(Cn2ccnn2)[C@H](C(=O)O)N2C(=O)C[C@H]2S1(...</td>\n",
       "      <td>=</td>\n",
       "      <td>40.0</td>\n",
       "      <td>nM</td>\n",
       "      <td>IC50</td>\n",
       "      <td>7.40</td>\n",
       "      <td>Gil1</td>\n",
       "      <td>assay format</td>\n",
       "    </tr>\n",
       "    <tr>\n",
       "      <th>7</th>\n",
       "      <td>CHEMBL777</td>\n",
       "      <td>O=C(O)[C@H]1/C(=C/CO)O[C@@H]2CC(=O)N21</td>\n",
       "      <td>=</td>\n",
       "      <td>70.0</td>\n",
       "      <td>nM</td>\n",
       "      <td>IC50</td>\n",
       "      <td>7.16</td>\n",
       "      <td>Beta-lactamase SCO-1</td>\n",
       "      <td>single protein format</td>\n",
       "    </tr>\n",
       "    <tr>\n",
       "      <th>8</th>\n",
       "      <td>CHEMBL403</td>\n",
       "      <td>CC1(C)[C@H](C(=O)O)N2C(=O)C[C@H]2S1(=O)=O</td>\n",
       "      <td>=</td>\n",
       "      <td>6200.0</td>\n",
       "      <td>nM</td>\n",
       "      <td>IC50</td>\n",
       "      <td>5.21</td>\n",
       "      <td>Beta-lactamase SCO-1</td>\n",
       "      <td>single protein format</td>\n",
       "    </tr>\n",
       "    <tr>\n",
       "      <th>9</th>\n",
       "      <td>CHEMBL404</td>\n",
       "      <td>C[C@]1(Cn2ccnn2)[C@H](C(=O)O)N2C(=O)C[C@H]2S1(...</td>\n",
       "      <td>=</td>\n",
       "      <td>10.0</td>\n",
       "      <td>nM</td>\n",
       "      <td>IC50</td>\n",
       "      <td>8.00</td>\n",
       "      <td>Beta-lactamase SCO-1</td>\n",
       "      <td>single protein format</td>\n",
       "    </tr>\n",
       "    <tr>\n",
       "      <th>...</th>\n",
       "      <td>...</td>\n",
       "      <td>...</td>\n",
       "      <td>...</td>\n",
       "      <td>...</td>\n",
       "      <td>...</td>\n",
       "      <td>...</td>\n",
       "      <td>...</td>\n",
       "      <td>...</td>\n",
       "      <td>...</td>\n",
       "    </tr>\n",
       "    <tr>\n",
       "      <th>57</th>\n",
       "      <td>CHEMBL404</td>\n",
       "      <td>C[C@]1(Cn2ccnn2)[C@H](C(=O)O)N2C(=O)C[C@H]2S1(...</td>\n",
       "      <td>=</td>\n",
       "      <td>374.0</td>\n",
       "      <td>nM</td>\n",
       "      <td>IC50</td>\n",
       "      <td>6.43</td>\n",
       "      <td>Carbepenem-hydrolyzing beta-lactamase KPC</td>\n",
       "      <td>assay format</td>\n",
       "    </tr>\n",
       "    <tr>\n",
       "      <th>90</th>\n",
       "      <td>CHEMBL404</td>\n",
       "      <td>C[C@]1(Cn2ccnn2)[C@H](C(=O)O)N2C(=O)C[C@H]2S1(...</td>\n",
       "      <td>=</td>\n",
       "      <td>370.0</td>\n",
       "      <td>nM</td>\n",
       "      <td>IC50</td>\n",
       "      <td>6.43</td>\n",
       "      <td>Carbepenem-hydrolyzing beta-lactamase KPC</td>\n",
       "      <td>single protein format</td>\n",
       "    </tr>\n",
       "    <tr>\n",
       "      <th>91</th>\n",
       "      <td>CHEMBL777</td>\n",
       "      <td>O=C(O)[C@H]1/C(=C/CO)O[C@@H]2CC(=O)N21</td>\n",
       "      <td>=</td>\n",
       "      <td>10500.0</td>\n",
       "      <td>nM</td>\n",
       "      <td>IC50</td>\n",
       "      <td>4.98</td>\n",
       "      <td>Carbepenem-hydrolyzing beta-lactamase KPC</td>\n",
       "      <td>single protein format</td>\n",
       "    </tr>\n",
       "    <tr>\n",
       "      <th>107</th>\n",
       "      <td>CHEMBL777</td>\n",
       "      <td>O=C(O)[C@H]1/C(=C/CO)O[C@@H]2CC(=O)N21</td>\n",
       "      <td>=</td>\n",
       "      <td>11000.0</td>\n",
       "      <td>nM</td>\n",
       "      <td>Ki</td>\n",
       "      <td>4.96</td>\n",
       "      <td>Carbepenem-hydrolyzing beta-lactamase KPC</td>\n",
       "      <td>single protein format</td>\n",
       "    </tr>\n",
       "    <tr>\n",
       "      <th>109</th>\n",
       "      <td>CHEMBL404</td>\n",
       "      <td>C[C@]1(Cn2ccnn2)[C@H](C(=O)O)N2C(=O)C[C@H]2S1(...</td>\n",
       "      <td>=</td>\n",
       "      <td>74000.0</td>\n",
       "      <td>nM</td>\n",
       "      <td>Ki</td>\n",
       "      <td>4.13</td>\n",
       "      <td>Carbepenem-hydrolyzing beta-lactamase KPC</td>\n",
       "      <td>single protein format</td>\n",
       "    </tr>\n",
       "  </tbody>\n",
       "</table>\n",
       "<p>64424 rows × 9 columns</p>\n",
       "</div>"
      ],
      "text/plain": [
       "    molecule_chembl_id                                   canonical_smiles  \\\n",
       "47           CHEMBL777             O=C(O)[C@H]1/C(=C/CO)O[C@@H]2CC(=O)N21   \n",
       "48           CHEMBL404  C[C@]1(Cn2ccnn2)[C@H](C(=O)O)N2C(=O)C[C@H]2S1(...   \n",
       "7            CHEMBL777             O=C(O)[C@H]1/C(=C/CO)O[C@@H]2CC(=O)N21   \n",
       "8            CHEMBL403          CC1(C)[C@H](C(=O)O)N2C(=O)C[C@H]2S1(=O)=O   \n",
       "9            CHEMBL404  C[C@]1(Cn2ccnn2)[C@H](C(=O)O)N2C(=O)C[C@H]2S1(...   \n",
       "..                 ...                                                ...   \n",
       "57           CHEMBL404  C[C@]1(Cn2ccnn2)[C@H](C(=O)O)N2C(=O)C[C@H]2S1(...   \n",
       "90           CHEMBL404  C[C@]1(Cn2ccnn2)[C@H](C(=O)O)N2C(=O)C[C@H]2S1(...   \n",
       "91           CHEMBL777             O=C(O)[C@H]1/C(=C/CO)O[C@@H]2CC(=O)N21   \n",
       "107          CHEMBL777             O=C(O)[C@H]1/C(=C/CO)O[C@@H]2CC(=O)N21   \n",
       "109          CHEMBL404  C[C@]1(Cn2ccnn2)[C@H](C(=O)O)N2C(=O)C[C@H]2S1(...   \n",
       "\n",
       "    standard_relation  standard_value standard_units standard_type  \\\n",
       "47                  =             9.0             nM          IC50   \n",
       "48                  =            40.0             nM          IC50   \n",
       "7                   =            70.0             nM          IC50   \n",
       "8                   =          6200.0             nM          IC50   \n",
       "9                   =            10.0             nM          IC50   \n",
       "..                ...             ...            ...           ...   \n",
       "57                  =           374.0             nM          IC50   \n",
       "90                  =           370.0             nM          IC50   \n",
       "91                  =         10500.0             nM          IC50   \n",
       "107                 =         11000.0             nM            Ki   \n",
       "109                 =         74000.0             nM            Ki   \n",
       "\n",
       "     pchembl_value                           target_pref_name  \\\n",
       "47            8.05                                       Gil1   \n",
       "48            7.40                                       Gil1   \n",
       "7             7.16                       Beta-lactamase SCO-1   \n",
       "8             5.21                       Beta-lactamase SCO-1   \n",
       "9             8.00                       Beta-lactamase SCO-1   \n",
       "..             ...                                        ...   \n",
       "57            6.43  Carbepenem-hydrolyzing beta-lactamase KPC   \n",
       "90            6.43  Carbepenem-hydrolyzing beta-lactamase KPC   \n",
       "91            4.98  Carbepenem-hydrolyzing beta-lactamase KPC   \n",
       "107           4.96  Carbepenem-hydrolyzing beta-lactamase KPC   \n",
       "109           4.13  Carbepenem-hydrolyzing beta-lactamase KPC   \n",
       "\n",
       "                 bao_label  \n",
       "47            assay format  \n",
       "48            assay format  \n",
       "7    single protein format  \n",
       "8    single protein format  \n",
       "9    single protein format  \n",
       "..                     ...  \n",
       "57            assay format  \n",
       "90   single protein format  \n",
       "91   single protein format  \n",
       "107  single protein format  \n",
       "109  single protein format  \n",
       "\n",
       "[64424 rows x 9 columns]"
      ]
     },
     "execution_count": 4,
     "metadata": {},
     "output_type": "execute_result"
    }
   ],
   "source": [
    "# Non-missing data with pChEMBL value\n",
    "df2 = df[df.pchembl_value.notnull()]\n",
    "df2"
   ]
  },
  {
   "cell_type": "markdown",
   "metadata": {},
   "source": [
    "### Check for Nan values"
   ]
  },
  {
   "cell_type": "code",
   "execution_count": 5,
   "metadata": {},
   "outputs": [
    {
     "data": {
      "text/plain": [
       "16"
      ]
     },
     "execution_count": 5,
     "metadata": {},
     "output_type": "execute_result"
    }
   ],
   "source": [
    "df2.isnull().sum().sum()\n",
    "\n",
    "#There is 16 missing values in the dataset but as we are interested in pChEMBL values we will not treat them"
   ]
  },
  {
   "cell_type": "markdown",
   "metadata": {},
   "source": [
    "### Here we will group by moleucle ID and fill the last values to avoid NaN for standard deviation "
   ]
  },
  {
   "cell_type": "code",
   "execution_count": 6,
   "metadata": {},
   "outputs": [
    {
     "data": {
      "text/html": [
       "<div>\n",
       "<style scoped>\n",
       "    .dataframe tbody tr th:only-of-type {\n",
       "        vertical-align: middle;\n",
       "    }\n",
       "\n",
       "    .dataframe tbody tr th {\n",
       "        vertical-align: top;\n",
       "    }\n",
       "\n",
       "    .dataframe thead th {\n",
       "        text-align: right;\n",
       "    }\n",
       "</style>\n",
       "<table border=\"1\" class=\"dataframe\">\n",
       "  <thead>\n",
       "    <tr style=\"text-align: right;\">\n",
       "      <th></th>\n",
       "      <th>standard_value</th>\n",
       "      <th>pchembl_value</th>\n",
       "    </tr>\n",
       "    <tr>\n",
       "      <th>molecule_chembl_id</th>\n",
       "      <th></th>\n",
       "      <th></th>\n",
       "    </tr>\n",
       "  </thead>\n",
       "  <tbody>\n",
       "    <tr>\n",
       "      <th>CHEMBL1018</th>\n",
       "      <td>316.200000</td>\n",
       "      <td>6.500000</td>\n",
       "    </tr>\n",
       "    <tr>\n",
       "      <th>CHEMBL1024</th>\n",
       "      <td>11220.200000</td>\n",
       "      <td>4.950000</td>\n",
       "    </tr>\n",
       "    <tr>\n",
       "      <th>CHEMBL1028</th>\n",
       "      <td>2818.400000</td>\n",
       "      <td>5.550000</td>\n",
       "    </tr>\n",
       "    <tr>\n",
       "      <th>CHEMBL1036</th>\n",
       "      <td>39.800000</td>\n",
       "      <td>7.400000</td>\n",
       "    </tr>\n",
       "    <tr>\n",
       "      <th>CHEMBL104</th>\n",
       "      <td>10606.601718</td>\n",
       "      <td>0.169706</td>\n",
       "    </tr>\n",
       "    <tr>\n",
       "      <th>...</th>\n",
       "      <td>...</td>\n",
       "      <td>...</td>\n",
       "    </tr>\n",
       "    <tr>\n",
       "      <th>CHEMBL97643</th>\n",
       "      <td>11220.200000</td>\n",
       "      <td>4.950000</td>\n",
       "    </tr>\n",
       "    <tr>\n",
       "      <th>CHEMBL977</th>\n",
       "      <td>631.000000</td>\n",
       "      <td>6.200000</td>\n",
       "    </tr>\n",
       "    <tr>\n",
       "      <th>CHEMBL98406</th>\n",
       "      <td>63095.700000</td>\n",
       "      <td>4.200000</td>\n",
       "    </tr>\n",
       "    <tr>\n",
       "      <th>CHEMBL995</th>\n",
       "      <td>14125.400000</td>\n",
       "      <td>4.850000</td>\n",
       "    </tr>\n",
       "    <tr>\n",
       "      <th>CHEMBL996</th>\n",
       "      <td>220.302822</td>\n",
       "      <td>0.368556</td>\n",
       "    </tr>\n",
       "  </tbody>\n",
       "</table>\n",
       "<p>63038 rows × 2 columns</p>\n",
       "</div>"
      ],
      "text/plain": [
       "                    standard_value  pchembl_value\n",
       "molecule_chembl_id                               \n",
       "CHEMBL1018              316.200000       6.500000\n",
       "CHEMBL1024            11220.200000       4.950000\n",
       "CHEMBL1028             2818.400000       5.550000\n",
       "CHEMBL1036               39.800000       7.400000\n",
       "CHEMBL104             10606.601718       0.169706\n",
       "...                            ...            ...\n",
       "CHEMBL97643           11220.200000       4.950000\n",
       "CHEMBL977               631.000000       6.200000\n",
       "CHEMBL98406           63095.700000       4.200000\n",
       "CHEMBL995             14125.400000       4.850000\n",
       "CHEMBL996               220.302822       0.368556\n",
       "\n",
       "[63038 rows x 2 columns]"
      ]
     },
     "execution_count": 6,
     "metadata": {},
     "output_type": "execute_result"
    }
   ],
   "source": [
    "df2_group = df2.groupby('molecule_chembl_id').std().fillna(df.groupby('molecule_chembl_id').last())\n",
    "df2_group"
   ]
  },
  {
   "cell_type": "code",
   "execution_count": 7,
   "metadata": {},
   "outputs": [
    {
     "data": {
      "text/html": [
       "<div>\n",
       "<style scoped>\n",
       "    .dataframe tbody tr th:only-of-type {\n",
       "        vertical-align: middle;\n",
       "    }\n",
       "\n",
       "    .dataframe tbody tr th {\n",
       "        vertical-align: top;\n",
       "    }\n",
       "\n",
       "    .dataframe thead th {\n",
       "        text-align: right;\n",
       "    }\n",
       "</style>\n",
       "<table border=\"1\" class=\"dataframe\">\n",
       "  <thead>\n",
       "    <tr style=\"text-align: right;\">\n",
       "      <th></th>\n",
       "      <th>standard_value</th>\n",
       "      <th>pchembl_value</th>\n",
       "    </tr>\n",
       "    <tr>\n",
       "      <th>molecule_chembl_id</th>\n",
       "      <th></th>\n",
       "      <th></th>\n",
       "    </tr>\n",
       "  </thead>\n",
       "  <tbody>\n",
       "    <tr>\n",
       "      <th>CHEMBL104</th>\n",
       "      <td>10606.601718</td>\n",
       "      <td>0.169706</td>\n",
       "    </tr>\n",
       "    <tr>\n",
       "      <th>CHEMBL1089781</th>\n",
       "      <td>2418.627366</td>\n",
       "      <td>0.459891</td>\n",
       "    </tr>\n",
       "    <tr>\n",
       "      <th>CHEMBL1091</th>\n",
       "      <td>39575.140197</td>\n",
       "      <td>0.212132</td>\n",
       "    </tr>\n",
       "    <tr>\n",
       "      <th>CHEMBL109227</th>\n",
       "      <td>0.000000</td>\n",
       "      <td>0.000000</td>\n",
       "    </tr>\n",
       "    <tr>\n",
       "      <th>CHEMBL1126</th>\n",
       "      <td>2545.584412</td>\n",
       "      <td>0.212132</td>\n",
       "    </tr>\n",
       "    <tr>\n",
       "      <th>...</th>\n",
       "      <td>...</td>\n",
       "      <td>...</td>\n",
       "    </tr>\n",
       "    <tr>\n",
       "      <th>CHEMBL87686</th>\n",
       "      <td>6984.086607</td>\n",
       "      <td>1.866762</td>\n",
       "    </tr>\n",
       "    <tr>\n",
       "      <th>CHEMBL87719</th>\n",
       "      <td>339.411255</td>\n",
       "      <td>0.869741</td>\n",
       "    </tr>\n",
       "    <tr>\n",
       "      <th>CHEMBL891</th>\n",
       "      <td>7496.901315</td>\n",
       "      <td>1.836146</td>\n",
       "    </tr>\n",
       "    <tr>\n",
       "      <th>CHEMBL9306</th>\n",
       "      <td>234.759451</td>\n",
       "      <td>0.544472</td>\n",
       "    </tr>\n",
       "    <tr>\n",
       "      <th>CHEMBL996</th>\n",
       "      <td>220.302822</td>\n",
       "      <td>0.368556</td>\n",
       "    </tr>\n",
       "  </tbody>\n",
       "</table>\n",
       "<p>796 rows × 2 columns</p>\n",
       "</div>"
      ],
      "text/plain": [
       "                    standard_value  pchembl_value\n",
       "molecule_chembl_id                               \n",
       "CHEMBL104             10606.601718       0.169706\n",
       "CHEMBL1089781          2418.627366       0.459891\n",
       "CHEMBL1091            39575.140197       0.212132\n",
       "CHEMBL109227              0.000000       0.000000\n",
       "CHEMBL1126             2545.584412       0.212132\n",
       "...                            ...            ...\n",
       "CHEMBL87686            6984.086607       1.866762\n",
       "CHEMBL87719             339.411255       0.869741\n",
       "CHEMBL891              7496.901315       1.836146\n",
       "CHEMBL9306              234.759451       0.544472\n",
       "CHEMBL996               220.302822       0.368556\n",
       "\n",
       "[796 rows x 2 columns]"
      ]
     },
     "execution_count": 7,
     "metadata": {},
     "output_type": "execute_result"
    }
   ],
   "source": [
    "df2_std_less_2 = df2_group[df2_group['pchembl_value'] <2]\n",
    "df2_std_less_2"
   ]
  },
  {
   "cell_type": "code",
   "execution_count": 8,
   "metadata": {
    "scrolled": false
   },
   "outputs": [
    {
     "data": {
      "text/html": [
       "<div>\n",
       "<style scoped>\n",
       "    .dataframe tbody tr th:only-of-type {\n",
       "        vertical-align: middle;\n",
       "    }\n",
       "\n",
       "    .dataframe tbody tr th {\n",
       "        vertical-align: top;\n",
       "    }\n",
       "\n",
       "    .dataframe thead th {\n",
       "        text-align: right;\n",
       "    }\n",
       "</style>\n",
       "<table border=\"1\" class=\"dataframe\">\n",
       "  <thead>\n",
       "    <tr style=\"text-align: right;\">\n",
       "      <th></th>\n",
       "      <th>molecule_chembl_id</th>\n",
       "      <th>canonical_smiles</th>\n",
       "      <th>standard_relation</th>\n",
       "      <th>standard_value</th>\n",
       "      <th>standard_units</th>\n",
       "      <th>standard_type</th>\n",
       "      <th>pchembl_value</th>\n",
       "      <th>target_pref_name</th>\n",
       "      <th>bao_label</th>\n",
       "    </tr>\n",
       "  </thead>\n",
       "  <tbody>\n",
       "    <tr>\n",
       "      <th>12</th>\n",
       "      <td>CHEMBL1795572</td>\n",
       "      <td>CO/N=C(/C(=O)NCP(=O)(O)Oc1ccc(C#N)c(F)c1)c1ccc...</td>\n",
       "      <td>=</td>\n",
       "      <td>31000.0</td>\n",
       "      <td>nM</td>\n",
       "      <td>IC50</td>\n",
       "      <td>4.51</td>\n",
       "      <td>Beta-lactamase</td>\n",
       "      <td>single protein format</td>\n",
       "    </tr>\n",
       "    <tr>\n",
       "      <th>16</th>\n",
       "      <td>CHEMBL3112752</td>\n",
       "      <td>N[C@@H](Cc1ccc(NC(=O)[C@@H]2CC[C@@H]3CN2C(=O)N...</td>\n",
       "      <td>=</td>\n",
       "      <td>28000.0</td>\n",
       "      <td>nM</td>\n",
       "      <td>IC50</td>\n",
       "      <td>4.55</td>\n",
       "      <td>Beta-lactamase</td>\n",
       "      <td>single protein format</td>\n",
       "    </tr>\n",
       "    <tr>\n",
       "      <th>23</th>\n",
       "      <td>CHEMBL3112746</td>\n",
       "      <td>O=C(Nc1ccncc1)[C@@H]1CC[C@@H]2CN1C(=O)N2OS(=O)...</td>\n",
       "      <td>=</td>\n",
       "      <td>20000.0</td>\n",
       "      <td>nM</td>\n",
       "      <td>IC50</td>\n",
       "      <td>4.70</td>\n",
       "      <td>Beta-lactamase</td>\n",
       "      <td>single protein format</td>\n",
       "    </tr>\n",
       "    <tr>\n",
       "      <th>15</th>\n",
       "      <td>CHEMBL1173339</td>\n",
       "      <td>CCC(S)P(=O)(OC(C)C)OC(C)C</td>\n",
       "      <td>=</td>\n",
       "      <td>2000.0</td>\n",
       "      <td>nM</td>\n",
       "      <td>Ki</td>\n",
       "      <td>5.70</td>\n",
       "      <td>Beta-lactamase</td>\n",
       "      <td>single protein format</td>\n",
       "    </tr>\n",
       "    <tr>\n",
       "      <th>16</th>\n",
       "      <td>CHEMBL1172388</td>\n",
       "      <td>CCC(S)P(=O)(O)O</td>\n",
       "      <td>=</td>\n",
       "      <td>15000.0</td>\n",
       "      <td>nM</td>\n",
       "      <td>Ki</td>\n",
       "      <td>4.82</td>\n",
       "      <td>Beta-lactamase</td>\n",
       "      <td>single protein format</td>\n",
       "    </tr>\n",
       "    <tr>\n",
       "      <th>...</th>\n",
       "      <td>...</td>\n",
       "      <td>...</td>\n",
       "      <td>...</td>\n",
       "      <td>...</td>\n",
       "      <td>...</td>\n",
       "      <td>...</td>\n",
       "      <td>...</td>\n",
       "      <td>...</td>\n",
       "      <td>...</td>\n",
       "    </tr>\n",
       "    <tr>\n",
       "      <th>222</th>\n",
       "      <td>CHEMBL4075406</td>\n",
       "      <td>O=P(O)(O)C(CO)CCCCc1ccccc1</td>\n",
       "      <td>=</td>\n",
       "      <td>4500.0</td>\n",
       "      <td>nM</td>\n",
       "      <td>IC50</td>\n",
       "      <td>5.35</td>\n",
       "      <td>Beta-lactamase VIM-2</td>\n",
       "      <td>assay format</td>\n",
       "    </tr>\n",
       "    <tr>\n",
       "      <th>223</th>\n",
       "      <td>CHEMBL4069211</td>\n",
       "      <td>O=P(O)(O)C(CO)CCCc1ccccc1</td>\n",
       "      <td>=</td>\n",
       "      <td>34000.0</td>\n",
       "      <td>nM</td>\n",
       "      <td>IC50</td>\n",
       "      <td>4.47</td>\n",
       "      <td>Beta-lactamase VIM-2</td>\n",
       "      <td>assay format</td>\n",
       "    </tr>\n",
       "    <tr>\n",
       "      <th>239</th>\n",
       "      <td>CHEMBL4087458</td>\n",
       "      <td>CCOP(=O)(OCC)C(CS)CCCCc1ccccc1</td>\n",
       "      <td>=</td>\n",
       "      <td>1670.0</td>\n",
       "      <td>nM</td>\n",
       "      <td>IC50</td>\n",
       "      <td>5.78</td>\n",
       "      <td>Beta-lactamase VIM-2</td>\n",
       "      <td>assay format</td>\n",
       "    </tr>\n",
       "    <tr>\n",
       "      <th>92</th>\n",
       "      <td>CHEMBL4114669</td>\n",
       "      <td>CC1C/C(=C2/O[C@@H]3CC(=O)N3C2C(=O)O)C(=O)O1</td>\n",
       "      <td>=</td>\n",
       "      <td>3.2</td>\n",
       "      <td>nM</td>\n",
       "      <td>IC50</td>\n",
       "      <td>8.49</td>\n",
       "      <td>Beta-lactamase SHV-1</td>\n",
       "      <td>assay format</td>\n",
       "    </tr>\n",
       "    <tr>\n",
       "      <th>97</th>\n",
       "      <td>CHEMBL4114749</td>\n",
       "      <td>O=C(O)/C(C/C=C/CN(Cc1ccccc1)C(=O)OCc1ccccc1)=C...</td>\n",
       "      <td>=</td>\n",
       "      <td>0.6</td>\n",
       "      <td>nM</td>\n",
       "      <td>IC50</td>\n",
       "      <td>9.22</td>\n",
       "      <td>Beta-lactamase SHV-1</td>\n",
       "      <td>assay format</td>\n",
       "    </tr>\n",
       "  </tbody>\n",
       "</table>\n",
       "<p>62254 rows × 9 columns</p>\n",
       "</div>"
      ],
      "text/plain": [
       "    molecule_chembl_id                                   canonical_smiles  \\\n",
       "12       CHEMBL1795572  CO/N=C(/C(=O)NCP(=O)(O)Oc1ccc(C#N)c(F)c1)c1ccc...   \n",
       "16       CHEMBL3112752  N[C@@H](Cc1ccc(NC(=O)[C@@H]2CC[C@@H]3CN2C(=O)N...   \n",
       "23       CHEMBL3112746  O=C(Nc1ccncc1)[C@@H]1CC[C@@H]2CN1C(=O)N2OS(=O)...   \n",
       "15       CHEMBL1173339                          CCC(S)P(=O)(OC(C)C)OC(C)C   \n",
       "16       CHEMBL1172388                                    CCC(S)P(=O)(O)O   \n",
       "..                 ...                                                ...   \n",
       "222      CHEMBL4075406                         O=P(O)(O)C(CO)CCCCc1ccccc1   \n",
       "223      CHEMBL4069211                          O=P(O)(O)C(CO)CCCc1ccccc1   \n",
       "239      CHEMBL4087458                     CCOP(=O)(OCC)C(CS)CCCCc1ccccc1   \n",
       "92       CHEMBL4114669        CC1C/C(=C2/O[C@@H]3CC(=O)N3C2C(=O)O)C(=O)O1   \n",
       "97       CHEMBL4114749  O=C(O)/C(C/C=C/CN(Cc1ccccc1)C(=O)OCc1ccccc1)=C...   \n",
       "\n",
       "    standard_relation  standard_value standard_units standard_type  \\\n",
       "12                  =         31000.0             nM          IC50   \n",
       "16                  =         28000.0             nM          IC50   \n",
       "23                  =         20000.0             nM          IC50   \n",
       "15                  =          2000.0             nM            Ki   \n",
       "16                  =         15000.0             nM            Ki   \n",
       "..                ...             ...            ...           ...   \n",
       "222                 =          4500.0             nM          IC50   \n",
       "223                 =         34000.0             nM          IC50   \n",
       "239                 =          1670.0             nM          IC50   \n",
       "92                  =             3.2             nM          IC50   \n",
       "97                  =             0.6             nM          IC50   \n",
       "\n",
       "     pchembl_value      target_pref_name              bao_label  \n",
       "12            4.51        Beta-lactamase  single protein format  \n",
       "16            4.55        Beta-lactamase  single protein format  \n",
       "23            4.70        Beta-lactamase  single protein format  \n",
       "15            5.70        Beta-lactamase  single protein format  \n",
       "16            4.82        Beta-lactamase  single protein format  \n",
       "..             ...                   ...                    ...  \n",
       "222           5.35  Beta-lactamase VIM-2           assay format  \n",
       "223           4.47  Beta-lactamase VIM-2           assay format  \n",
       "239           5.78  Beta-lactamase VIM-2           assay format  \n",
       "92            8.49  Beta-lactamase SHV-1           assay format  \n",
       "97            9.22  Beta-lactamase SHV-1           assay format  \n",
       "\n",
       "[62254 rows x 9 columns]"
      ]
     },
     "execution_count": 8,
     "metadata": {},
     "output_type": "execute_result"
    }
   ],
   "source": [
    "df2_std_less_2Df = df2[~df2['molecule_chembl_id'].isin(df2_std_less_2.index)]\n",
    "df2_std_less_2Df"
   ]
  },
  {
   "cell_type": "code",
   "execution_count": 9,
   "metadata": {},
   "outputs": [
    {
     "name": "stderr",
     "output_type": "stream",
     "text": [
      "/home/adnane/.conda/envs/rdkit/lib/python3.6/site-packages/ipykernel_launcher.py:1: SettingWithCopyWarning: \n",
      "A value is trying to be set on a copy of a slice from a DataFrame\n",
      "\n",
      "See the caveats in the documentation: https://pandas.pydata.org/pandas-docs/stable/user_guide/indexing.html#returning-a-view-versus-a-copy\n",
      "  \"\"\"Entry point for launching an IPython kernel.\n"
     ]
    },
    {
     "data": {
      "text/html": [
       "<div>\n",
       "<style scoped>\n",
       "    .dataframe tbody tr th:only-of-type {\n",
       "        vertical-align: middle;\n",
       "    }\n",
       "\n",
       "    .dataframe tbody tr th {\n",
       "        vertical-align: top;\n",
       "    }\n",
       "\n",
       "    .dataframe thead th {\n",
       "        text-align: right;\n",
       "    }\n",
       "</style>\n",
       "<table border=\"1\" class=\"dataframe\">\n",
       "  <thead>\n",
       "    <tr style=\"text-align: right;\">\n",
       "      <th></th>\n",
       "      <th>molecule_chembl_id</th>\n",
       "      <th>canonical_smiles</th>\n",
       "      <th>standard_relation</th>\n",
       "      <th>standard_value</th>\n",
       "      <th>standard_units</th>\n",
       "      <th>standard_type</th>\n",
       "      <th>pchembl_value</th>\n",
       "      <th>target_pref_name</th>\n",
       "      <th>bao_label</th>\n",
       "    </tr>\n",
       "  </thead>\n",
       "  <tbody>\n",
       "    <tr>\n",
       "      <th>12</th>\n",
       "      <td>CHEMBL1795572</td>\n",
       "      <td>CO/N=C(/C(=O)NCP(=O)(O)Oc1ccc(C#N)c(F)c1)c1ccc...</td>\n",
       "      <td>=</td>\n",
       "      <td>31000.0</td>\n",
       "      <td>nM</td>\n",
       "      <td>IC50</td>\n",
       "      <td>4.51</td>\n",
       "      <td>Beta-lactamase</td>\n",
       "      <td>single protein format</td>\n",
       "    </tr>\n",
       "    <tr>\n",
       "      <th>16</th>\n",
       "      <td>CHEMBL3112752</td>\n",
       "      <td>N[C@@H](Cc1ccc(NC(=O)[C@@H]2CC[C@@H]3CN2C(=O)N...</td>\n",
       "      <td>=</td>\n",
       "      <td>28000.0</td>\n",
       "      <td>nM</td>\n",
       "      <td>IC50</td>\n",
       "      <td>4.55</td>\n",
       "      <td>Beta-lactamase</td>\n",
       "      <td>single protein format</td>\n",
       "    </tr>\n",
       "    <tr>\n",
       "      <th>23</th>\n",
       "      <td>CHEMBL3112746</td>\n",
       "      <td>O=C(Nc1ccncc1)[C@@H]1CC[C@@H]2CN1C(=O)N2OS(=O)...</td>\n",
       "      <td>=</td>\n",
       "      <td>20000.0</td>\n",
       "      <td>nM</td>\n",
       "      <td>IC50</td>\n",
       "      <td>4.70</td>\n",
       "      <td>Beta-lactamase</td>\n",
       "      <td>single protein format</td>\n",
       "    </tr>\n",
       "    <tr>\n",
       "      <th>15</th>\n",
       "      <td>CHEMBL1173339</td>\n",
       "      <td>CCC(S)P(=O)(OC(C)C)OC(C)C</td>\n",
       "      <td>=</td>\n",
       "      <td>2000.0</td>\n",
       "      <td>nM</td>\n",
       "      <td>Ki</td>\n",
       "      <td>5.70</td>\n",
       "      <td>Beta-lactamase</td>\n",
       "      <td>single protein format</td>\n",
       "    </tr>\n",
       "    <tr>\n",
       "      <th>16</th>\n",
       "      <td>CHEMBL1172388</td>\n",
       "      <td>CCC(S)P(=O)(O)O</td>\n",
       "      <td>=</td>\n",
       "      <td>15000.0</td>\n",
       "      <td>nM</td>\n",
       "      <td>Ki</td>\n",
       "      <td>4.82</td>\n",
       "      <td>Beta-lactamase</td>\n",
       "      <td>single protein format</td>\n",
       "    </tr>\n",
       "    <tr>\n",
       "      <th>...</th>\n",
       "      <td>...</td>\n",
       "      <td>...</td>\n",
       "      <td>...</td>\n",
       "      <td>...</td>\n",
       "      <td>...</td>\n",
       "      <td>...</td>\n",
       "      <td>...</td>\n",
       "      <td>...</td>\n",
       "      <td>...</td>\n",
       "    </tr>\n",
       "    <tr>\n",
       "      <th>220</th>\n",
       "      <td>CHEMBL4088285</td>\n",
       "      <td>CC(=O)SCC(CCCc1ccccc1)c1nnn[nH]1</td>\n",
       "      <td>=</td>\n",
       "      <td>42000.0</td>\n",
       "      <td>nM</td>\n",
       "      <td>IC50</td>\n",
       "      <td>4.38</td>\n",
       "      <td>Beta-lactamase VIM-2</td>\n",
       "      <td>assay format</td>\n",
       "    </tr>\n",
       "    <tr>\n",
       "      <th>221</th>\n",
       "      <td>CHEMBL4064978</td>\n",
       "      <td>CC(=O)SCC(Cc1ccccc1)c1nnn[nH]1</td>\n",
       "      <td>=</td>\n",
       "      <td>67000.0</td>\n",
       "      <td>nM</td>\n",
       "      <td>IC50</td>\n",
       "      <td>4.17</td>\n",
       "      <td>Beta-lactamase VIM-2</td>\n",
       "      <td>assay format</td>\n",
       "    </tr>\n",
       "    <tr>\n",
       "      <th>222</th>\n",
       "      <td>CHEMBL4075406</td>\n",
       "      <td>O=P(O)(O)C(CO)CCCCc1ccccc1</td>\n",
       "      <td>=</td>\n",
       "      <td>4500.0</td>\n",
       "      <td>nM</td>\n",
       "      <td>IC50</td>\n",
       "      <td>5.35</td>\n",
       "      <td>Beta-lactamase VIM-2</td>\n",
       "      <td>assay format</td>\n",
       "    </tr>\n",
       "    <tr>\n",
       "      <th>223</th>\n",
       "      <td>CHEMBL4069211</td>\n",
       "      <td>O=P(O)(O)C(CO)CCCc1ccccc1</td>\n",
       "      <td>=</td>\n",
       "      <td>34000.0</td>\n",
       "      <td>nM</td>\n",
       "      <td>IC50</td>\n",
       "      <td>4.47</td>\n",
       "      <td>Beta-lactamase VIM-2</td>\n",
       "      <td>assay format</td>\n",
       "    </tr>\n",
       "    <tr>\n",
       "      <th>239</th>\n",
       "      <td>CHEMBL4087458</td>\n",
       "      <td>CCOP(=O)(OCC)C(CS)CCCCc1ccccc1</td>\n",
       "      <td>=</td>\n",
       "      <td>1670.0</td>\n",
       "      <td>nM</td>\n",
       "      <td>IC50</td>\n",
       "      <td>5.78</td>\n",
       "      <td>Beta-lactamase VIM-2</td>\n",
       "      <td>assay format</td>\n",
       "    </tr>\n",
       "  </tbody>\n",
       "</table>\n",
       "<p>62242 rows × 9 columns</p>\n",
       "</div>"
      ],
      "text/plain": [
       "    molecule_chembl_id                                   canonical_smiles  \\\n",
       "12       CHEMBL1795572  CO/N=C(/C(=O)NCP(=O)(O)Oc1ccc(C#N)c(F)c1)c1ccc...   \n",
       "16       CHEMBL3112752  N[C@@H](Cc1ccc(NC(=O)[C@@H]2CC[C@@H]3CN2C(=O)N...   \n",
       "23       CHEMBL3112746  O=C(Nc1ccncc1)[C@@H]1CC[C@@H]2CN1C(=O)N2OS(=O)...   \n",
       "15       CHEMBL1173339                          CCC(S)P(=O)(OC(C)C)OC(C)C   \n",
       "16       CHEMBL1172388                                    CCC(S)P(=O)(O)O   \n",
       "..                 ...                                                ...   \n",
       "220      CHEMBL4088285                   CC(=O)SCC(CCCc1ccccc1)c1nnn[nH]1   \n",
       "221      CHEMBL4064978                     CC(=O)SCC(Cc1ccccc1)c1nnn[nH]1   \n",
       "222      CHEMBL4075406                         O=P(O)(O)C(CO)CCCCc1ccccc1   \n",
       "223      CHEMBL4069211                          O=P(O)(O)C(CO)CCCc1ccccc1   \n",
       "239      CHEMBL4087458                     CCOP(=O)(OCC)C(CS)CCCCc1ccccc1   \n",
       "\n",
       "    standard_relation  standard_value standard_units standard_type  \\\n",
       "12                  =         31000.0             nM          IC50   \n",
       "16                  =         28000.0             nM          IC50   \n",
       "23                  =         20000.0             nM          IC50   \n",
       "15                  =          2000.0             nM            Ki   \n",
       "16                  =         15000.0             nM            Ki   \n",
       "..                ...             ...            ...           ...   \n",
       "220                 =         42000.0             nM          IC50   \n",
       "221                 =         67000.0             nM          IC50   \n",
       "222                 =          4500.0             nM          IC50   \n",
       "223                 =         34000.0             nM          IC50   \n",
       "239                 =          1670.0             nM          IC50   \n",
       "\n",
       "     pchembl_value      target_pref_name              bao_label  \n",
       "12            4.51        Beta-lactamase  single protein format  \n",
       "16            4.55        Beta-lactamase  single protein format  \n",
       "23            4.70        Beta-lactamase  single protein format  \n",
       "15            5.70        Beta-lactamase  single protein format  \n",
       "16            4.82        Beta-lactamase  single protein format  \n",
       "..             ...                   ...                    ...  \n",
       "220           4.38  Beta-lactamase VIM-2           assay format  \n",
       "221           4.17  Beta-lactamase VIM-2           assay format  \n",
       "222           5.35  Beta-lactamase VIM-2           assay format  \n",
       "223           4.47  Beta-lactamase VIM-2           assay format  \n",
       "239           5.78  Beta-lactamase VIM-2           assay format  \n",
       "\n",
       "[62242 rows x 9 columns]"
      ]
     },
     "execution_count": 9,
     "metadata": {},
     "output_type": "execute_result"
    }
   ],
   "source": [
    "df2_std_less_2Df.drop_duplicates(\"molecule_chembl_id\", keep=\"first\", inplace=True)\n",
    "df2_std_less_2Df"
   ]
  },
  {
   "cell_type": "code",
   "execution_count": 10,
   "metadata": {
    "scrolled": true
   },
   "outputs": [
    {
     "data": {
      "text/html": [
       "<div>\n",
       "<style scoped>\n",
       "    .dataframe tbody tr th:only-of-type {\n",
       "        vertical-align: middle;\n",
       "    }\n",
       "\n",
       "    .dataframe tbody tr th {\n",
       "        vertical-align: top;\n",
       "    }\n",
       "\n",
       "    .dataframe thead th {\n",
       "        text-align: right;\n",
       "    }\n",
       "</style>\n",
       "<table border=\"1\" class=\"dataframe\">\n",
       "  <thead>\n",
       "    <tr style=\"text-align: right;\">\n",
       "      <th></th>\n",
       "      <th>standard_value</th>\n",
       "      <th>pchembl_value</th>\n",
       "    </tr>\n",
       "    <tr>\n",
       "      <th>molecule_chembl_id</th>\n",
       "      <th></th>\n",
       "      <th></th>\n",
       "    </tr>\n",
       "  </thead>\n",
       "  <tbody>\n",
       "    <tr>\n",
       "      <th>CHEMBL1018</th>\n",
       "      <td>316.2</td>\n",
       "      <td>6.50</td>\n",
       "    </tr>\n",
       "    <tr>\n",
       "      <th>CHEMBL1024</th>\n",
       "      <td>11220.2</td>\n",
       "      <td>4.95</td>\n",
       "    </tr>\n",
       "    <tr>\n",
       "      <th>CHEMBL1028</th>\n",
       "      <td>2818.4</td>\n",
       "      <td>5.55</td>\n",
       "    </tr>\n",
       "    <tr>\n",
       "      <th>CHEMBL1036</th>\n",
       "      <td>39.8</td>\n",
       "      <td>7.40</td>\n",
       "    </tr>\n",
       "    <tr>\n",
       "      <th>CHEMBL1054</th>\n",
       "      <td>15848.9</td>\n",
       "      <td>4.80</td>\n",
       "    </tr>\n",
       "    <tr>\n",
       "      <th>...</th>\n",
       "      <td>...</td>\n",
       "      <td>...</td>\n",
       "    </tr>\n",
       "    <tr>\n",
       "      <th>CHEMBL964</th>\n",
       "      <td>100000.0</td>\n",
       "      <td>4.00</td>\n",
       "    </tr>\n",
       "    <tr>\n",
       "      <th>CHEMBL97643</th>\n",
       "      <td>11220.2</td>\n",
       "      <td>4.95</td>\n",
       "    </tr>\n",
       "    <tr>\n",
       "      <th>CHEMBL977</th>\n",
       "      <td>631.0</td>\n",
       "      <td>6.20</td>\n",
       "    </tr>\n",
       "    <tr>\n",
       "      <th>CHEMBL98406</th>\n",
       "      <td>63095.7</td>\n",
       "      <td>4.20</td>\n",
       "    </tr>\n",
       "    <tr>\n",
       "      <th>CHEMBL995</th>\n",
       "      <td>14125.4</td>\n",
       "      <td>4.85</td>\n",
       "    </tr>\n",
       "  </tbody>\n",
       "</table>\n",
       "<p>62242 rows × 2 columns</p>\n",
       "</div>"
      ],
      "text/plain": [
       "                    standard_value  pchembl_value\n",
       "molecule_chembl_id                               \n",
       "CHEMBL1018                   316.2           6.50\n",
       "CHEMBL1024                 11220.2           4.95\n",
       "CHEMBL1028                  2818.4           5.55\n",
       "CHEMBL1036                    39.8           7.40\n",
       "CHEMBL1054                 15848.9           4.80\n",
       "...                            ...            ...\n",
       "CHEMBL964                 100000.0           4.00\n",
       "CHEMBL97643                11220.2           4.95\n",
       "CHEMBL977                    631.0           6.20\n",
       "CHEMBL98406                63095.7           4.20\n",
       "CHEMBL995                  14125.4           4.85\n",
       "\n",
       "[62242 rows x 2 columns]"
      ]
     },
     "execution_count": 10,
     "metadata": {},
     "output_type": "execute_result"
    }
   ],
   "source": [
    "df2_group_mean = df2_std_less_2Df.groupby('molecule_chembl_id').mean()\n",
    "df2_group_mean"
   ]
  },
  {
   "cell_type": "code",
   "execution_count": 13,
   "metadata": {
    "scrolled": true
   },
   "outputs": [
    {
     "name": "stderr",
     "output_type": "stream",
     "text": [
      "/home/adnane/.conda/envs/rdkit/lib/python3.6/site-packages/ipykernel_launcher.py:1: SettingWithCopyWarning: \n",
      "A value is trying to be set on a copy of a slice from a DataFrame.\n",
      "Try using .loc[row_indexer,col_indexer] = value instead\n",
      "\n",
      "See the caveats in the documentation: https://pandas.pydata.org/pandas-docs/stable/user_guide/indexing.html#returning-a-view-versus-a-copy\n",
      "  \"\"\"Entry point for launching an IPython kernel.\n"
     ]
    }
   ],
   "source": [
    "df2_std_less_2Df[\"pchembl_value\"] = df2_group_mean[\"pchembl_value\"]"
   ]
  },
  {
   "cell_type": "code",
   "execution_count": 18,
   "metadata": {},
   "outputs": [
    {
     "data": {
      "text/html": [
       "<div>\n",
       "<style scoped>\n",
       "    .dataframe tbody tr th:only-of-type {\n",
       "        vertical-align: middle;\n",
       "    }\n",
       "\n",
       "    .dataframe tbody tr th {\n",
       "        vertical-align: top;\n",
       "    }\n",
       "\n",
       "    .dataframe thead th {\n",
       "        text-align: right;\n",
       "    }\n",
       "</style>\n",
       "<table border=\"1\" class=\"dataframe\">\n",
       "  <thead>\n",
       "    <tr style=\"text-align: right;\">\n",
       "      <th></th>\n",
       "      <th>molecule_chembl_id</th>\n",
       "      <th>canonical_smiles</th>\n",
       "      <th>standard_relation</th>\n",
       "      <th>standard_value</th>\n",
       "      <th>standard_units</th>\n",
       "      <th>standard_type</th>\n",
       "      <th>pchembl_value</th>\n",
       "      <th>target_pref_name</th>\n",
       "      <th>bao_label</th>\n",
       "    </tr>\n",
       "  </thead>\n",
       "  <tbody>\n",
       "  </tbody>\n",
       "</table>\n",
       "</div>"
      ],
      "text/plain": [
       "Empty DataFrame\n",
       "Columns: [molecule_chembl_id, canonical_smiles, standard_relation, standard_value, standard_units, standard_type, pchembl_value, target_pref_name, bao_label]\n",
       "Index: []"
      ]
     },
     "execution_count": 18,
     "metadata": {},
     "output_type": "execute_result"
    }
   ],
   "source": [
    "dup = df2_std_less_2Df[df2_std_less_2Df.duplicated()]\n",
    "dup"
   ]
  },
  {
   "cell_type": "code",
   "execution_count": 12,
   "metadata": {},
   "outputs": [
    {
     "data": {
      "text/html": [
       "<div>\n",
       "<style scoped>\n",
       "    .dataframe tbody tr th:only-of-type {\n",
       "        vertical-align: middle;\n",
       "    }\n",
       "\n",
       "    .dataframe tbody tr th {\n",
       "        vertical-align: top;\n",
       "    }\n",
       "\n",
       "    .dataframe thead th {\n",
       "        text-align: right;\n",
       "    }\n",
       "</style>\n",
       "<table border=\"1\" class=\"dataframe\">\n",
       "  <thead>\n",
       "    <tr style=\"text-align: right;\">\n",
       "      <th></th>\n",
       "      <th>molecule_chembl_id</th>\n",
       "      <th>canonical_smiles</th>\n",
       "      <th>standard_relation</th>\n",
       "      <th>standard_value</th>\n",
       "      <th>standard_units</th>\n",
       "      <th>standard_type</th>\n",
       "      <th>pchembl_value</th>\n",
       "      <th>target_pref_name</th>\n",
       "      <th>bao_label</th>\n",
       "    </tr>\n",
       "  </thead>\n",
       "  <tbody>\n",
       "  </tbody>\n",
       "</table>\n",
       "</div>"
      ],
      "text/plain": [
       "Empty DataFrame\n",
       "Columns: [molecule_chembl_id, canonical_smiles, standard_relation, standard_value, standard_units, standard_type, pchembl_value, target_pref_name, bao_label]\n",
       "Index: []"
      ]
     },
     "execution_count": 12,
     "metadata": {},
     "output_type": "execute_result"
    }
   ],
   "source": [
    "df2_mean_Df = df2_std_less_2Df[~df2_std_less_2Df['molecule_chembl_id'].isin(df2_group_mean.index)]\n",
    "df2_mean_Df"
   ]
  },
  {
   "cell_type": "code",
   "execution_count": null,
   "metadata": {},
   "outputs": [],
   "source": [
    "df2_group_mean = df2_std_less_2.groupby('molecule_chembl_id').mean()\n",
    "df2_group_mean"
   ]
  },
  {
   "cell_type": "markdown",
   "metadata": {},
   "source": [
    "# Identify duplicates observations"
   ]
  },
  {
   "cell_type": "code",
   "execution_count": null,
   "metadata": {},
   "outputs": [],
   "source": [
    "duplicates = df2['molecule_chembl_id'].duplicated()"
   ]
  },
  {
   "cell_type": "code",
   "execution_count": null,
   "metadata": {
    "scrolled": false
   },
   "outputs": [],
   "source": [
    "# Identification of 67 observation \n",
    "df2_duplicates = df2[duplicates]\n",
    "df2_duplicates"
   ]
  },
  {
   "cell_type": "code",
   "execution_count": null,
   "metadata": {},
   "outputs": [],
   "source": [
    "df2_minus_duplicates = df2[~df2.index.isin(df2_duplicates.index)]\n",
    "df2_minus_duplicates"
   ]
  },
  {
   "cell_type": "markdown",
   "metadata": {},
   "source": [
    "## We group them by chembl ID \n",
    "Finally we will get 43 unique observation"
   ]
  },
  {
   "cell_type": "code",
   "execution_count": null,
   "metadata": {},
   "outputs": [],
   "source": [
    "df_group = df2[duplicates].groupby('molecule_chembl_id').std().fillna(df.groupby('molecule_chembl_id').last())"
   ]
  },
  {
   "cell_type": "code",
   "execution_count": null,
   "metadata": {},
   "outputs": [],
   "source": [
    "len(df_group)"
   ]
  },
  {
   "cell_type": "code",
   "execution_count": null,
   "metadata": {
    "scrolled": true
   },
   "outputs": [],
   "source": [
    "len(df_group.index)"
   ]
  },
  {
   "cell_type": "markdown",
   "metadata": {},
   "source": [
    "## Here we will select molecules that show a biological activity with a SDT less than 2"
   ]
  },
  {
   "cell_type": "code",
   "execution_count": null,
   "metadata": {},
   "outputs": [],
   "source": [
    "df_duplicates_std_less_2 = df_group[df_group['pchembl_value'] <2]"
   ]
  },
  {
   "cell_type": "code",
   "execution_count": null,
   "metadata": {},
   "outputs": [],
   "source": [
    "df_duplicates_std_less_2"
   ]
  },
  {
   "cell_type": "code",
   "execution_count": null,
   "metadata": {
    "scrolled": false
   },
   "outputs": [],
   "source": [
    "index_duplicates_std_less_2 = df_duplicates_std_less_2.index\n",
    "index_duplicates_std_less_2"
   ]
  },
  {
   "cell_type": "code",
   "execution_count": null,
   "metadata": {
    "scrolled": true
   },
   "outputs": [],
   "source": [
    "df2_duplicates_std_less_2 = df2_duplicates[~df2_duplicates['molecule_chembl_id'].isin(df_duplicates_std_less_2.index)]\n",
    "df2_duplicates_std_less_2"
   ]
  },
  {
   "cell_type": "code",
   "execution_count": null,
   "metadata": {
    "scrolled": true
   },
   "outputs": [],
   "source": [
    "df_group_mean = df2_duplicates_std_less_2.groupby('molecule_chembl_id').mean()\n",
    "len(df_group_mean.index.unique())"
   ]
  },
  {
   "cell_type": "code",
   "execution_count": null,
   "metadata": {},
   "outputs": [],
   "source": [
    "index_duplicates_mean = df_group_mean.index\n",
    "pchembl_value_duplicates_mean = df_group_mean['pchembl_value']"
   ]
  },
  {
   "cell_type": "code",
   "execution_count": null,
   "metadata": {
    "scrolled": false
   },
   "outputs": [],
   "source": [
    "df2_duplicates_mean = df2_duplicates[~df2_duplicates['molecule_chembl_id'].isin(df_group_mean.index)]\n",
    "len(df2_duplicates_mean.index)"
   ]
  },
  {
   "cell_type": "code",
   "execution_count": null,
   "metadata": {},
   "outputs": [],
   "source": [
    "df21 = df2_duplicates_mean.take(index_duplicates_mean)"
   ]
  },
  {
   "cell_type": "code",
   "execution_count": null,
   "metadata": {},
   "outputs": [],
   "source": [
    "df2_duplicates.loc[df2_duplicates.groupby('molecule_chembl_id')[\"pchembl_value\"].idxmin()]"
   ]
  },
  {
   "cell_type": "code",
   "execution_count": null,
   "metadata": {},
   "outputs": [],
   "source": [
    "df.groupby(['molecule_chembl_id'], as_index=False).std()"
   ]
  },
  {
   "cell_type": "code",
   "execution_count": null,
   "metadata": {},
   "outputs": [],
   "source": [
    "df2_duplicates_std_less_2 = df2_duplicates[df2_duplicates['molecule_chembl_id'] = index_duplicates_std_less_2]"
   ]
  },
  {
   "cell_type": "markdown",
   "metadata": {},
   "source": [
    "### Now we need to merge the values molecules with "
   ]
  },
  {
   "cell_type": "code",
   "execution_count": null,
   "metadata": {},
   "outputs": [],
   "source": [
    "df2[duplicates]['standard_value'].sort_values()"
   ]
  },
  {
   "cell_type": "code",
   "execution_count": null,
   "metadata": {},
   "outputs": [],
   "source": []
  },
  {
   "cell_type": "code",
   "execution_count": null,
   "metadata": {},
   "outputs": [],
   "source": [
    "df2[duplicates].groupby('molecule_chembl_id').std().fillna(df.groupby('molecule_chembl_id').last())"
   ]
  },
  {
   "cell_type": "code",
   "execution_count": null,
   "metadata": {},
   "outputs": [],
   "source": [
    "df2"
   ]
  },
  {
   "cell_type": "code",
   "execution_count": null,
   "metadata": {},
   "outputs": [],
   "source": [
    "df2[duplicates].groupby('molecule_chembl_id').std()"
   ]
  },
  {
   "cell_type": "code",
   "execution_count": null,
   "metadata": {
    "colab": {
     "base_uri": "https://localhost:8080/",
     "height": 450
    },
    "id": "lDzUyr8FI76r",
    "outputId": "533304c2-a0bf-4cfa-e32e-caede68c892f"
   },
   "outputs": [],
   "source": [
    "df2.groupby('molecule_chembl_id').mean()"
   ]
  },
  {
   "cell_type": "code",
   "execution_count": null,
   "metadata": {
    "colab": {
     "base_uri": "https://localhost:8080/",
     "height": 450
    },
    "id": "v6gBZtD6J89z",
    "outputId": "f5985ab7-9d24-4f6d-d92d-de6fee84d691"
   },
   "outputs": [],
   "source": [
    "df2.groupby('molecule_chembl_id').std()"
   ]
  },
  {
   "cell_type": "code",
   "execution_count": null,
   "metadata": {
    "id": "0RA_lfBwJIwy"
   },
   "outputs": [],
   "source": [
    "df3 = df2.groupby('molecule_chembl_id').std()\n",
    "df3"
   ]
  },
  {
   "cell_type": "code",
   "execution_count": null,
   "metadata": {},
   "outputs": [],
   "source": [
    "df3 = df3[(df3['standard_value'] == pd.NA) | (df3['standard_value'].std() < 2)]\n",
    "df3"
   ]
  },
  {
   "cell_type": "code",
   "execution_count": null,
   "metadata": {
    "id": "pcLXyM6vI8Se"
   },
   "outputs": [],
   "source": [
    "import numpy as np\n",
    "\n",
    "df3 = df2.groupby('molecule_chembl_id').std()\n",
    "df3[df3.pchembl_value == np.nan]"
   ]
  },
  {
   "cell_type": "code",
   "execution_count": null,
   "metadata": {
    "id": "08FmWk9II8VI"
   },
   "outputs": [],
   "source": []
  },
  {
   "cell_type": "code",
   "execution_count": null,
   "metadata": {
    "colab": {
     "base_uri": "https://localhost:8080/"
    },
    "id": "n8nLErqNA81y",
    "outputId": "2f6c859d-ee8a-46c4-d5dd-4a07fac4e954"
   },
   "outputs": [],
   "source": [
    "print('Number of unique ChEMBL ID:', str(len(df.molecule_chembl_id.unique()) )  )\n",
    "print('Total number of ChEMBL ID: ', str(len(df)) )\n",
    "print('Number of missing ChEMBL ID: ', str(df.molecule_chembl_id.isnull().sum()) )"
   ]
  },
  {
   "cell_type": "code",
   "execution_count": null,
   "metadata": {
    "id": "l3TZE0L0WcFN"
   },
   "outputs": [],
   "source": [
    "import matplotlib.pyplot as plt\n",
    "\n",
    "unique = len(df.molecule_chembl_id.unique())\n",
    "not_unique = len(df) - unique\n",
    "\n",
    "x = ['Unique', 'Redundant']\n",
    "y = [unique, not_unique]\n",
    "\n"
   ]
  },
  {
   "cell_type": "code",
   "execution_count": null,
   "metadata": {
    "colab": {
     "base_uri": "https://localhost:8080/",
     "height": 491
    },
    "id": "B9WI4MpiHJgP",
    "outputId": "4382a0e2-e5df-4282-d075-100c6d921599"
   },
   "outputs": [],
   "source": [
    "df2.target_pref_name.value_counts()[0:50].plot.bar(figsize=(24,4), color='#00BFC4', ec='black')\n",
    "\n",
    "plt.title('Top 50 Targets', fontsize=14, fontweight='black', pad=15)\n",
    "plt.show()"
   ]
  },
  {
   "cell_type": "code",
   "execution_count": null,
   "metadata": {
    "colab": {
     "base_uri": "https://localhost:8080/",
     "height": 321
    },
    "id": "fl1ykWbNKOJz",
    "outputId": "92a15a84-abe2-4bb3-ad46-743fd91a221d"
   },
   "outputs": [],
   "source": [
    "# Top 10 Bioactivity units\n",
    "df2.standard_type.value_counts()[:10].plot.bar(figsize=(8,4), color='#00BFC4', ec='black')\n",
    "\n",
    "plt.title('Top Bioactivity Units', fontsize=14, fontweight='black', pad=15)\n",
    "plt.show()"
   ]
  },
  {
   "cell_type": "code",
   "execution_count": null,
   "metadata": {
    "colab": {
     "base_uri": "https://localhost:8080/",
     "height": 408
    },
    "id": "pQ2fxUGVSeNn",
    "outputId": "d96e5e4c-ce9d-40f3-bc0e-31b10a1c7d53"
   },
   "outputs": [],
   "source": [
    "bao_labels = df2.bao_label.value_counts()\n",
    "bao_labels.plot.bar(figsize=(8,4), color='#00BFC4', ec='black')\n",
    "\n",
    "plt.title('Histogram of BioAssay Ontology', fontsize=14, fontweight='black', pad=15)\n",
    "plt.xticks(fontsize=12)\n",
    "plt.yticks(fontsize=12)\n",
    "plt.show()"
   ]
  },
  {
   "cell_type": "code",
   "execution_count": null,
   "metadata": {
    "id": "GOkc9-PiUYvY"
   },
   "outputs": [],
   "source": [
    "bao_labels"
   ]
  },
  {
   "cell_type": "code",
   "execution_count": null,
   "metadata": {
    "colab": {
     "base_uri": "https://localhost:8080/",
     "height": 294
    },
    "id": "XOrwRrA2L8__",
    "outputId": "2d64d786-d2d3-4053-da09-633b8a7e57e1"
   },
   "outputs": [],
   "source": [
    "df2.pchembl_value.hist(bins=40, figsize=(8,4), color='#00BFC4', ec='black')\n",
    "\n",
    "plt.title('Histogram of pChEMBL values', fontsize=14, fontweight='black', pad=15)\n",
    "plt.xticks(fontsize=12)\n",
    "plt.yticks(fontsize=12)\n",
    "plt.show()"
   ]
  },
  {
   "cell_type": "code",
   "execution_count": null,
   "metadata": {
    "id": "Xq2BMPZCIHGf"
   },
   "outputs": [],
   "source": []
  },
  {
   "cell_type": "markdown",
   "metadata": {
    "id": "iaS_0mQmpjsI"
   },
   "source": [
    "pChEMBL values <5 == 'Inactive'\n",
    "pChEMBL values > 6 == 'Active'\n",
    "pChEMBL values 5-6 == 'Intermediate'"
   ]
  }
 ],
 "metadata": {
  "colab": {
   "collapsed_sections": [],
   "name": "beta-lactamase-data.ipynb",
   "provenance": []
  },
  "kernelspec": {
   "display_name": "Python 3",
   "language": "python",
   "name": "python3"
  },
  "language_info": {
   "codemirror_mode": {
    "name": "ipython",
    "version": 3
   },
   "file_extension": ".py",
   "mimetype": "text/x-python",
   "name": "python",
   "nbconvert_exporter": "python",
   "pygments_lexer": "ipython3",
   "version": "3.6.12"
  }
 },
 "nbformat": 4,
 "nbformat_minor": 1
}
